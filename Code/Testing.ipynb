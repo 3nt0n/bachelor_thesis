{
 "cells": [
  {
   "cell_type": "code",
   "execution_count": 1,
   "metadata": {},
   "outputs": [],
   "source": [
    "import gym\n"
   ]
  },
  {
   "cell_type": "code",
   "execution_count": 5,
   "metadata": {},
   "outputs": [
    {
     "data": {
      "text/plain": [
       "({'achieved_goal': array([1.26289348, 0.8259693 , 0.42473605]),\n",
       "  'desired_goal': array([1.24467394, 0.72685242, 0.46411609]),\n",
       "  'observation': array([ 1.31800753e+00,  7.52317295e-01,  5.08786806e-01,  1.26289348e+00,\n",
       "          8.25969296e-01,  4.24736048e-01, -5.51140540e-02,  7.36520003e-02,\n",
       "         -8.40507575e-02,  1.02897913e-05,  1.00236663e-04, -3.85214084e-07,\n",
       "          5.92637053e-07,  1.12208536e-13,  2.16336735e-02, -2.85100807e-03,\n",
       "          2.34897538e-02,  1.87589293e-07, -2.88598912e-07,  3.45971789e-19,\n",
       "         -2.16336807e-02,  2.85100341e-03, -2.34630883e-02,  5.13491342e-05,\n",
       "          4.78801721e-05])},\n",
       " -1.0,\n",
       " False,\n",
       " {'is_success': 0.0})"
      ]
     },
     "execution_count": 5,
     "metadata": {},
     "output_type": "execute_result"
    }
   ],
   "source": [
    "#env = gym.make('MountainCar-v0')\n",
    "env = gym.make('FetchPickAndPlace-v1')\n",
    "\n",
    "env.reset()\n",
    "env.step(env.action_space.sample())"
   ]
  },
  {
   "cell_type": "code",
   "execution_count": null,
   "metadata": {},
   "outputs": [],
   "source": []
  }
 ],
 "metadata": {
  "kernelspec": {
   "display_name": "Python 3",
   "language": "python",
   "name": "python3"
  },
  "language_info": {
   "codemirror_mode": {
    "name": "ipython",
    "version": 3
   },
   "file_extension": ".py",
   "mimetype": "text/x-python",
   "name": "python",
   "nbconvert_exporter": "python",
   "pygments_lexer": "ipython3",
   "version": "3.5.2"
  }
 },
 "nbformat": 4,
 "nbformat_minor": 2
}
